{
 "cells": [
  {
   "cell_type": "code",
   "execution_count": 1,
   "metadata": {},
   "outputs": [
    {
     "name": "stderr",
     "output_type": "stream",
     "text": [
      "C:\\Users\\Balddudehere\\AppData\\Local\\Temp\\ipykernel_23324\\1054600650.py:3: FutureWarning: The error_bad_lines argument has been deprecated and will be removed in a future version. Use on_bad_lines in the future.\n",
      "\n",
      "\n",
      "  data = pd.read_csv(\"amazon_reviews_us_Mobile_Electronics_v1_00.tsv\", sep=\"\\t\", error_bad_lines=False)\n",
      "Skipping line 35246: expected 15 fields, saw 22\n",
      "\n",
      "Skipping line 87073: expected 15 fields, saw 22\n",
      "\n"
     ]
    }
   ],
   "source": [
    "import pandas as pd\n",
    "\n",
    "data = pd.read_csv(\"amazon_reviews_us_Mobile_Electronics_v1_00.tsv\", sep=\"\\t\", error_bad_lines=False) "
   ]
  },
  {
   "cell_type": "code",
   "execution_count": 2,
   "metadata": {},
   "outputs": [
    {
     "data": {
      "text/html": [
       "<div>\n",
       "<style scoped>\n",
       "    .dataframe tbody tr th:only-of-type {\n",
       "        vertical-align: middle;\n",
       "    }\n",
       "\n",
       "    .dataframe tbody tr th {\n",
       "        vertical-align: top;\n",
       "    }\n",
       "\n",
       "    .dataframe thead th {\n",
       "        text-align: right;\n",
       "    }\n",
       "</style>\n",
       "<table border=\"1\" class=\"dataframe\">\n",
       "  <thead>\n",
       "    <tr style=\"text-align: right;\">\n",
       "      <th></th>\n",
       "      <th>marketplace</th>\n",
       "      <th>customer_id</th>\n",
       "      <th>review_id</th>\n",
       "      <th>product_id</th>\n",
       "      <th>product_parent</th>\n",
       "      <th>product_title</th>\n",
       "      <th>product_category</th>\n",
       "      <th>star_rating</th>\n",
       "      <th>helpful_votes</th>\n",
       "      <th>total_votes</th>\n",
       "      <th>vine</th>\n",
       "      <th>verified_purchase</th>\n",
       "      <th>review_headline</th>\n",
       "      <th>review_body</th>\n",
       "      <th>review_date</th>\n",
       "    </tr>\n",
       "  </thead>\n",
       "  <tbody>\n",
       "    <tr>\n",
       "      <th>0</th>\n",
       "      <td>US</td>\n",
       "      <td>20422322</td>\n",
       "      <td>R8MEA6IGAHO0B</td>\n",
       "      <td>B00MC4CED8</td>\n",
       "      <td>217304173</td>\n",
       "      <td>BlackVue DR600GW-PMP</td>\n",
       "      <td>Mobile_Electronics</td>\n",
       "      <td>5.0</td>\n",
       "      <td>0.0</td>\n",
       "      <td>0.0</td>\n",
       "      <td>N</td>\n",
       "      <td>Y</td>\n",
       "      <td>Very Happy!</td>\n",
       "      <td>As advertised. Everything works perfectly, I'm...</td>\n",
       "      <td>2015-08-31</td>\n",
       "    </tr>\n",
       "    <tr>\n",
       "      <th>1</th>\n",
       "      <td>US</td>\n",
       "      <td>40835037</td>\n",
       "      <td>R31LOQ8JGLPRLK</td>\n",
       "      <td>B00OQMFG1Q</td>\n",
       "      <td>137313254</td>\n",
       "      <td>GENSSI GSM / GPS Two Way Smart Phone Car Alarm...</td>\n",
       "      <td>Mobile_Electronics</td>\n",
       "      <td>5.0</td>\n",
       "      <td>0.0</td>\n",
       "      <td>1.0</td>\n",
       "      <td>N</td>\n",
       "      <td>Y</td>\n",
       "      <td>five star</td>\n",
       "      <td>it's great</td>\n",
       "      <td>2015-08-31</td>\n",
       "    </tr>\n",
       "    <tr>\n",
       "      <th>2</th>\n",
       "      <td>US</td>\n",
       "      <td>51469641</td>\n",
       "      <td>R2Y0MM9YE6OP3P</td>\n",
       "      <td>B00QERR5CY</td>\n",
       "      <td>82850235</td>\n",
       "      <td>iXCC Multi pack Lightning cable</td>\n",
       "      <td>Mobile_Electronics</td>\n",
       "      <td>5.0</td>\n",
       "      <td>0.0</td>\n",
       "      <td>0.0</td>\n",
       "      <td>N</td>\n",
       "      <td>Y</td>\n",
       "      <td>great cables</td>\n",
       "      <td>These work great and fit my life proof case fo...</td>\n",
       "      <td>2015-08-31</td>\n",
       "    </tr>\n",
       "    <tr>\n",
       "      <th>3</th>\n",
       "      <td>US</td>\n",
       "      <td>4332923</td>\n",
       "      <td>RRB9C05HDOD4O</td>\n",
       "      <td>B00QUFTPV4</td>\n",
       "      <td>221169481</td>\n",
       "      <td>abcGoodefg® FBI Covert Acoustic Tube Earpiece ...</td>\n",
       "      <td>Mobile_Electronics</td>\n",
       "      <td>4.0</td>\n",
       "      <td>0.0</td>\n",
       "      <td>0.0</td>\n",
       "      <td>N</td>\n",
       "      <td>Y</td>\n",
       "      <td>Work very well but couldn't get used to not he...</td>\n",
       "      <td>Work very well but couldn't get used to not he...</td>\n",
       "      <td>2015-08-31</td>\n",
       "    </tr>\n",
       "    <tr>\n",
       "      <th>4</th>\n",
       "      <td>US</td>\n",
       "      <td>44855305</td>\n",
       "      <td>R26I2RI1GFV8QG</td>\n",
       "      <td>B0067XVNTG</td>\n",
       "      <td>563475445</td>\n",
       "      <td>Generic Car Dashboard Video Camera Vehicle Vid...</td>\n",
       "      <td>Mobile_Electronics</td>\n",
       "      <td>2.0</td>\n",
       "      <td>0.0</td>\n",
       "      <td>0.0</td>\n",
       "      <td>N</td>\n",
       "      <td>Y</td>\n",
       "      <td>Cameras has battery issues</td>\n",
       "      <td>Be careful with these products, I have bought ...</td>\n",
       "      <td>2015-08-31</td>\n",
       "    </tr>\n",
       "  </tbody>\n",
       "</table>\n",
       "</div>"
      ],
      "text/plain": [
       "  marketplace  customer_id       review_id  product_id  product_parent  \\\n",
       "0          US     20422322   R8MEA6IGAHO0B  B00MC4CED8       217304173   \n",
       "1          US     40835037  R31LOQ8JGLPRLK  B00OQMFG1Q       137313254   \n",
       "2          US     51469641  R2Y0MM9YE6OP3P  B00QERR5CY        82850235   \n",
       "3          US      4332923   RRB9C05HDOD4O  B00QUFTPV4       221169481   \n",
       "4          US     44855305  R26I2RI1GFV8QG  B0067XVNTG       563475445   \n",
       "\n",
       "                                       product_title    product_category  \\\n",
       "0                               BlackVue DR600GW-PMP  Mobile_Electronics   \n",
       "1  GENSSI GSM / GPS Two Way Smart Phone Car Alarm...  Mobile_Electronics   \n",
       "2                    iXCC Multi pack Lightning cable  Mobile_Electronics   \n",
       "3  abcGoodefg® FBI Covert Acoustic Tube Earpiece ...  Mobile_Electronics   \n",
       "4  Generic Car Dashboard Video Camera Vehicle Vid...  Mobile_Electronics   \n",
       "\n",
       "   star_rating  helpful_votes  total_votes vine verified_purchase  \\\n",
       "0          5.0            0.0          0.0    N                 Y   \n",
       "1          5.0            0.0          1.0    N                 Y   \n",
       "2          5.0            0.0          0.0    N                 Y   \n",
       "3          4.0            0.0          0.0    N                 Y   \n",
       "4          2.0            0.0          0.0    N                 Y   \n",
       "\n",
       "                                     review_headline  \\\n",
       "0                                        Very Happy!   \n",
       "1                                          five star   \n",
       "2                                       great cables   \n",
       "3  Work very well but couldn't get used to not he...   \n",
       "4                         Cameras has battery issues   \n",
       "\n",
       "                                         review_body review_date  \n",
       "0  As advertised. Everything works perfectly, I'm...  2015-08-31  \n",
       "1                                         it's great  2015-08-31  \n",
       "2  These work great and fit my life proof case fo...  2015-08-31  \n",
       "3  Work very well but couldn't get used to not he...  2015-08-31  \n",
       "4  Be careful with these products, I have bought ...  2015-08-31  "
      ]
     },
     "execution_count": 2,
     "metadata": {},
     "output_type": "execute_result"
    }
   ],
   "source": [
    "data.head()"
   ]
  },
  {
   "cell_type": "code",
   "execution_count": 3,
   "metadata": {},
   "outputs": [
    {
     "name": "stdout",
     "output_type": "stream",
     "text": [
      "<class 'pandas.core.frame.DataFrame'>\n",
      "RangeIndex: 104852 entries, 0 to 104851\n",
      "Data columns (total 15 columns):\n",
      " #   Column             Non-Null Count   Dtype  \n",
      "---  ------             --------------   -----  \n",
      " 0   marketplace        104852 non-null  object \n",
      " 1   customer_id        104852 non-null  int64  \n",
      " 2   review_id          104852 non-null  object \n",
      " 3   product_id         104852 non-null  object \n",
      " 4   product_parent     104852 non-null  int64  \n",
      " 5   product_title      104852 non-null  object \n",
      " 6   product_category   104852 non-null  object \n",
      " 7   star_rating        104850 non-null  float64\n",
      " 8   helpful_votes      104850 non-null  float64\n",
      " 9   total_votes        104850 non-null  float64\n",
      " 10  vine               104850 non-null  object \n",
      " 11  verified_purchase  104850 non-null  object \n",
      " 12  review_headline    104848 non-null  object \n",
      " 13  review_body        104849 non-null  object \n",
      " 14  review_date        104850 non-null  object \n",
      "dtypes: float64(3), int64(2), object(10)\n",
      "memory usage: 12.0+ MB\n"
     ]
    }
   ],
   "source": [
    "data.info()"
   ]
  },
  {
   "cell_type": "code",
   "execution_count": 4,
   "metadata": {},
   "outputs": [],
   "source": [
    "text_column = 'review_body' \n"
   ]
  },
  {
   "cell_type": "code",
   "execution_count": 5,
   "metadata": {},
   "outputs": [],
   "source": [
    "from textblob import TextBlob\n",
    "\n",
    "def analyze_sentiment(text):\n",
    "    try:\n",
    "        blob = TextBlob(text)\n",
    "        polarity = blob.sentiment.polarity  # Polarity: -1 (negative) to 1 (positive)\n",
    "        if polarity > 0:\n",
    "            sentiment = 'Positive'\n",
    "        elif polarity == 0:\n",
    "            sentiment = 'Neutral'\n",
    "        else:\n",
    "            sentiment = 'Negative'\n",
    "        return polarity, sentiment\n",
    "    except Exception as e:\n",
    "        return None, 'Error'"
   ]
  },
  {
   "cell_type": "code",
   "execution_count": 6,
   "metadata": {},
   "outputs": [],
   "source": [
    "data['Polarity'], data['Sentiment'] = zip(*data[text_column].apply(analyze_sentiment))"
   ]
  },
  {
   "cell_type": "code",
   "execution_count": 7,
   "metadata": {},
   "outputs": [],
   "source": [
    "output_file = 'sentiment_analysis_results.csv'\n",
    "data.to_csv(output_file, index=False)"
   ]
  },
  {
   "cell_type": "markdown",
   "metadata": {},
   "source": [
    "#### Data Ingestion and Database (sqlite3 for local ingestion since AWS is not working)"
   ]
  },
  {
   "cell_type": "code",
   "execution_count": 42,
   "metadata": {},
   "outputs": [
    {
     "data": {
      "text/plain": [
       "104852"
      ]
     },
     "execution_count": 42,
     "metadata": {},
     "output_type": "execute_result"
    }
   ],
   "source": [
    "import sqlite3\n",
    "\n",
    "conn = sqlite3.connect(\"sentiments.db\")\n",
    "data.to_sql(\"SentimentAnalysis\", conn, if_exists=\"replace\", index=False)"
   ]
  },
  {
   "cell_type": "code",
   "execution_count": 43,
   "metadata": {},
   "outputs": [],
   "source": [
    "from wordcloud import WordCloud"
   ]
  },
  {
   "cell_type": "markdown",
   "metadata": {},
   "source": [
    "#### Wordcloud for Positive and Negative Sentiments"
   ]
  },
  {
   "cell_type": "code",
   "execution_count": 17,
   "metadata": {},
   "outputs": [],
   "source": [
    "import io\n",
    "import base64\n",
    "\n",
    "positive_text = \" \".join(data[data['Sentiment'] == 'Positive'][text_column].astype(str))\n",
    "negative_text = \" \".join(data[data['Sentiment'] == 'Negative'][text_column].astype(str))"
   ]
  },
  {
   "cell_type": "code",
   "execution_count": 18,
   "metadata": {},
   "outputs": [],
   "source": [
    "def create_wordcloud(text, background_color='white'):\n",
    "    wordcloud = WordCloud(width=800, height=400, background_color=background_color).generate(text)\n",
    "    img = io.BytesIO()\n",
    "    wordcloud.to_image().save(img, format='PNG')\n",
    "    img.seek(0)\n",
    "    return base64.b64encode(img.getvalue()).decode()\n",
    "\n",
    "positive_wordcloud = create_wordcloud(positive_text, 'white')\n",
    "negative_wordcloud = create_wordcloud(negative_text, 'black')"
   ]
  },
  {
   "cell_type": "code",
   "execution_count": 13,
   "metadata": {},
   "outputs": [
    {
     "name": "stdout",
     "output_type": "stream",
     "text": [
      "Defaulting to user installation because normal site-packages is not writeable\n",
      "Collecting dash\n",
      "  Obtaining dependency information for dash from https://files.pythonhosted.org/packages/72/ef/d46131f4817f18b329e4fb7c53ba1d31774239d91266a74bccdc932708cc/dash-2.18.2-py3-none-any.whl.metadata\n",
      "  Downloading dash-2.18.2-py3-none-any.whl.metadata (10 kB)\n",
      "Requirement already satisfied: Flask<3.1,>=1.0.4 in c:\\programdata\\anaconda3\\lib\\site-packages (from dash) (2.2.2)\n",
      "Requirement already satisfied: Werkzeug<3.1 in c:\\programdata\\anaconda3\\lib\\site-packages (from dash) (2.2.3)\n",
      "Requirement already satisfied: plotly>=5.0.0 in c:\\programdata\\anaconda3\\lib\\site-packages (from dash) (5.9.0)\n",
      "Collecting dash-html-components==2.0.0 (from dash)\n",
      "  Obtaining dependency information for dash-html-components==2.0.0 from https://files.pythonhosted.org/packages/75/65/1b16b853844ef59b2742a7de74a598f376ac0ab581f0dcc34db294e5c90e/dash_html_components-2.0.0-py3-none-any.whl.metadata\n",
      "  Downloading dash_html_components-2.0.0-py3-none-any.whl.metadata (3.8 kB)\n",
      "Collecting dash-core-components==2.0.0 (from dash)\n",
      "  Obtaining dependency information for dash-core-components==2.0.0 from https://files.pythonhosted.org/packages/00/9e/a29f726e84e531a36d56cff187e61d8c96d2cc253c5bcef9a7695acb7e6a/dash_core_components-2.0.0-py3-none-any.whl.metadata\n",
      "  Downloading dash_core_components-2.0.0-py3-none-any.whl.metadata (2.9 kB)\n",
      "Collecting dash-table==5.0.0 (from dash)\n",
      "  Obtaining dependency information for dash-table==5.0.0 from https://files.pythonhosted.org/packages/da/ce/43f77dc8e7bbad02a9f88d07bf794eaf68359df756a28bb9f2f78e255bb1/dash_table-5.0.0-py3-none-any.whl.metadata\n",
      "  Downloading dash_table-5.0.0-py3-none-any.whl.metadata (2.4 kB)\n",
      "Requirement already satisfied: importlib-metadata in c:\\programdata\\anaconda3\\lib\\site-packages (from dash) (6.0.0)\n",
      "Requirement already satisfied: typing-extensions>=4.1.1 in c:\\programdata\\anaconda3\\lib\\site-packages (from dash) (4.7.1)\n",
      "Requirement already satisfied: requests in c:\\programdata\\anaconda3\\lib\\site-packages (from dash) (2.31.0)\n",
      "Collecting retrying (from dash)\n",
      "  Obtaining dependency information for retrying from https://files.pythonhosted.org/packages/8f/04/9e36f28be4c0532c0e9207ff9dc01fb13a2b0eb036476a213b0000837d0e/retrying-1.3.4-py3-none-any.whl.metadata\n",
      "  Downloading retrying-1.3.4-py3-none-any.whl.metadata (6.9 kB)\n",
      "Requirement already satisfied: nest-asyncio in c:\\programdata\\anaconda3\\lib\\site-packages (from dash) (1.5.6)\n",
      "Requirement already satisfied: setuptools in c:\\programdata\\anaconda3\\lib\\site-packages (from dash) (68.0.0)\n",
      "Requirement already satisfied: Jinja2>=3.0 in c:\\programdata\\anaconda3\\lib\\site-packages (from Flask<3.1,>=1.0.4->dash) (3.1.2)\n",
      "Requirement already satisfied: itsdangerous>=2.0 in c:\\programdata\\anaconda3\\lib\\site-packages (from Flask<3.1,>=1.0.4->dash) (2.0.1)\n",
      "Requirement already satisfied: click>=8.0 in c:\\programdata\\anaconda3\\lib\\site-packages (from Flask<3.1,>=1.0.4->dash) (8.0.4)\n",
      "Requirement already satisfied: tenacity>=6.2.0 in c:\\programdata\\anaconda3\\lib\\site-packages (from plotly>=5.0.0->dash) (8.2.2)\n",
      "Requirement already satisfied: MarkupSafe>=2.1.1 in c:\\programdata\\anaconda3\\lib\\site-packages (from Werkzeug<3.1->dash) (2.1.1)\n",
      "Requirement already satisfied: zipp>=0.5 in c:\\programdata\\anaconda3\\lib\\site-packages (from importlib-metadata->dash) (3.11.0)\n",
      "Requirement already satisfied: charset-normalizer<4,>=2 in c:\\programdata\\anaconda3\\lib\\site-packages (from requests->dash) (2.0.4)\n",
      "Requirement already satisfied: idna<4,>=2.5 in c:\\programdata\\anaconda3\\lib\\site-packages (from requests->dash) (3.4)\n",
      "Requirement already satisfied: urllib3<3,>=1.21.1 in c:\\programdata\\anaconda3\\lib\\site-packages (from requests->dash) (1.26.16)\n",
      "Requirement already satisfied: certifi>=2017.4.17 in c:\\programdata\\anaconda3\\lib\\site-packages (from requests->dash) (2023.7.22)\n",
      "Requirement already satisfied: six>=1.7.0 in c:\\programdata\\anaconda3\\lib\\site-packages (from retrying->dash) (1.16.0)\n",
      "Requirement already satisfied: colorama in c:\\programdata\\anaconda3\\lib\\site-packages (from click>=8.0->Flask<3.1,>=1.0.4->dash) (0.4.6)\n",
      "Downloading dash-2.18.2-py3-none-any.whl (7.8 MB)\n",
      "   ---------------------------------------- 0.0/7.8 MB ? eta -:--:--\n",
      "    --------------------------------------- 0.1/7.8 MB 2.8 MB/s eta 0:00:03\n",
      "   ---- ----------------------------------- 0.9/7.8 MB 9.6 MB/s eta 0:00:01\n",
      "   ------------- -------------------------- 2.7/7.8 MB 19.0 MB/s eta 0:00:01\n",
      "   ------------------ --------------------- 3.6/7.8 MB 19.0 MB/s eta 0:00:01\n",
      "   --------------------------------- ------ 6.6/7.8 MB 28.0 MB/s eta 0:00:01\n",
      "   ---------------------------------------  7.8/7.8 MB 31.1 MB/s eta 0:00:01\n",
      "   ---------------------------------------- 7.8/7.8 MB 26.2 MB/s eta 0:00:00\n",
      "Using cached dash_core_components-2.0.0-py3-none-any.whl (3.8 kB)\n",
      "Using cached dash_html_components-2.0.0-py3-none-any.whl (4.1 kB)\n",
      "Using cached dash_table-5.0.0-py3-none-any.whl (3.9 kB)\n",
      "Using cached retrying-1.3.4-py3-none-any.whl (11 kB)\n",
      "Installing collected packages: dash-table, dash-html-components, dash-core-components, retrying, dash\n",
      "Successfully installed dash-2.18.2 dash-core-components-2.0.0 dash-html-components-2.0.0 dash-table-5.0.0 retrying-1.3.4\n"
     ]
    },
    {
     "name": "stderr",
     "output_type": "stream",
     "text": [
      "  WARNING: The scripts dash-generate-components.exe, dash-update-components.exe and renderer.exe are installed in 'C:\\Users\\Balddudehere\\AppData\\Roaming\\Python\\Python311\\Scripts' which is not on PATH.\n",
      "  Consider adding this directory to PATH or, if you prefer to suppress this warning, use --no-warn-script-location.\n"
     ]
    }
   ],
   "source": [
    "!python -m pip install dash"
   ]
  },
  {
   "cell_type": "markdown",
   "metadata": {},
   "source": [
    "## Dashbaord using dash in python"
   ]
  },
  {
   "cell_type": "code",
   "execution_count": 14,
   "metadata": {},
   "outputs": [
    {
     "name": "stderr",
     "output_type": "stream",
     "text": [
      "C:\\Users\\Balddudehere\\AppData\\Local\\Temp\\ipykernel_23324\\3649862469.py:2: UserWarning: \n",
      "The dash_core_components package is deprecated. Please replace\n",
      "`import dash_core_components as dcc` with `from dash import dcc`\n",
      "  import dash_core_components as dcc\n",
      "C:\\Users\\Balddudehere\\AppData\\Local\\Temp\\ipykernel_23324\\3649862469.py:3: UserWarning: \n",
      "The dash_html_components package is deprecated. Please replace\n",
      "`import dash_html_components as html` with `from dash import html`\n",
      "  import dash_html_components as html\n"
     ]
    }
   ],
   "source": [
    "import dash\n",
    "import dash_core_components as dcc\n",
    "import dash_html_components as html\n",
    "from dash.dependencies import Input, Output"
   ]
  },
  {
   "cell_type": "code",
   "execution_count": 29,
   "metadata": {},
   "outputs": [],
   "source": [
    "import plotly.express as px\n",
    "import plotly.graph_objs as go"
   ]
  },
  {
   "cell_type": "code",
   "execution_count": 40,
   "metadata": {},
   "outputs": [],
   "source": [
    "app = dash.Dash(__name__)\n",
    "app.layout = html.Div([\n",
    "    # Title Section\n",
    "    html.Div([\n",
    "        html.H1(\"Sentiment Analysis of Amazon Customer Reviews\", style={\n",
    "            'textAlign': 'center',\n",
    "            'fontFamily': 'Arial, sans-serif',\n",
    "            'color': '#2a4d6f',\n",
    "            'margin-bottom': '30px'\n",
    "        })\n",
    "    ], style={'padding-top': '20px'}),  # Padding to give space above the title\n",
    "\n",
    "    # Main content container\n",
    "    html.Div([\n",
    "        # Sentiment Distribution Bar Chart\n",
    "        html.Div([\n",
    "            dcc.Graph(\n",
    "                id='sentiment-distribution',\n",
    "                figure={\n",
    "                    'data': [\n",
    "                        go.Bar(\n",
    "                            x=data['Sentiment'].value_counts().index,\n",
    "                            y=data['Sentiment'].value_counts().values,\n",
    "                            marker=dict(color=['#1f77b4', '#ff7f0e', '#2ca02c'])\n",
    "                        )\n",
    "                    ],\n",
    "                    'layout': go.Layout(\n",
    "                        title=\"Sentiment Distribution\",\n",
    "                        xaxis={'title': 'Sentiment'},\n",
    "                        yaxis={'title': 'Count'},\n",
    "                        template=\"plotly_white\",\n",
    "                        margin={'l': 40, 'r': 40, 't': 40, 'b': 40},\n",
    "                    )\n",
    "                }\n",
    "            )\n",
    "        ], style={'width': '48%', 'display': 'inline-block', 'padding': '10px'}),\n",
    "\n",
    "        # Polarity Distribution Histogram\n",
    "        html.Div([\n",
    "            dcc.Graph(\n",
    "                id='polarity-distribution',\n",
    "                figure={\n",
    "                    'data': [\n",
    "                        go.Histogram(\n",
    "                            x=data['Polarity'],\n",
    "                            nbinsx=20,\n",
    "                            marker=dict(color='skyblue'),\n",
    "                            opacity=0.75\n",
    "                        )\n",
    "                    ],\n",
    "                    'layout': go.Layout(\n",
    "                        title=\"Polarity Distribution\",\n",
    "                        xaxis={'title': 'Polarity'},\n",
    "                        yaxis={'title': 'Frequency'},\n",
    "                        template=\"plotly_white\",\n",
    "                        margin={'l': 40, 'r': 40, 't': 40, 'b': 40},\n",
    "                    )\n",
    "                }\n",
    "            )\n",
    "        ], style={'width': '48%', 'display': 'inline-block', 'padding': '10px'}),\n",
    "\n",
    "    ], style={'display': 'flex', 'justify-content': 'space-between', 'margin': '20px 0'}),  # Flex layout for charts\n",
    "\n",
    "    # Wordcloud Section (Positive and Negative)\n",
    "    html.Div([\n",
    "        # Positive Sentiment Wordcloud\n",
    "        html.Div([\n",
    "            html.H3(\"Wordcloud - Positive Sentiments\", style={'textAlign': 'center', 'color': '#007bff'}),\n",
    "            html.Img(src=f\"data:image/png;base64,{positive_wordcloud}\", style={'width': '100%', 'height': 'auto'})\n",
    "        ], style={'width': '48%', 'display': 'inline-block', 'padding': '10px', 'border': '1px solid #ddd', 'border-radius': '8px'}),\n",
    "\n",
    "        # Negative Sentiment Wordcloud\n",
    "        html.Div([\n",
    "            html.H3(\"Wordcloud - Negative Sentiments\", style={'textAlign': 'center', 'color': '#dc3545'}),\n",
    "            html.Img(src=f\"data:image/png;base64,{negative_wordcloud}\", style={'width': '100%', 'height': 'auto'})\n",
    "        ], style={'width': '48%', 'display': 'inline-block', 'padding': '10px', 'border': '1px solid #ddd', 'border-radius': '8px'}),\n",
    "\n",
    "    ], style={'display': 'flex', 'justify-content': 'space-between', 'margin': '20px 0'}),  # Flexbox for wordclouds\n",
    "\n",
    "])"
   ]
  },
  {
   "cell_type": "code",
   "execution_count": 41,
   "metadata": {},
   "outputs": [
    {
     "data": {
      "text/html": [
       "\n",
       "        <iframe\n",
       "            width=\"100%\"\n",
       "            height=\"650\"\n",
       "            src=\"http://127.0.0.1:8050/\"\n",
       "            frameborder=\"0\"\n",
       "            allowfullscreen\n",
       "            \n",
       "        ></iframe>\n",
       "        "
      ],
      "text/plain": [
       "<IPython.lib.display.IFrame at 0x1d893ba3310>"
      ]
     },
     "metadata": {},
     "output_type": "display_data"
    }
   ],
   "source": [
    "if __name__ == '__main__':\n",
    "    app.run_server(debug=True)"
   ]
  },
  {
   "cell_type": "code",
   "execution_count": null,
   "metadata": {},
   "outputs": [],
   "source": []
  }
 ],
 "metadata": {
  "kernelspec": {
   "display_name": "base",
   "language": "python",
   "name": "python3"
  },
  "language_info": {
   "codemirror_mode": {
    "name": "ipython",
    "version": 3
   },
   "file_extension": ".py",
   "mimetype": "text/x-python",
   "name": "python",
   "nbconvert_exporter": "python",
   "pygments_lexer": "ipython3",
   "version": "3.11.4"
  }
 },
 "nbformat": 4,
 "nbformat_minor": 2
}
